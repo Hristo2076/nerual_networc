{
  "nbformat": 4,
  "nbformat_minor": 0,
  "metadata": {
    "colab": {
      "provenance": [],
      "authorship_tag": "ABX9TyMPqm4CCWzj5bVE4qlwjQyX",
      "include_colab_link": true
    },
    "kernelspec": {
      "name": "python3",
      "display_name": "Python 3"
    },
    "language_info": {
      "name": "python"
    }
  },
  "cells": [
    {
      "cell_type": "markdown",
      "metadata": {
        "id": "view-in-github",
        "colab_type": "text"
      },
      "source": [
        "<a href=\"https://colab.research.google.com/github/Hristo2076/nerual_networc/blob/main/Untitled13.ipynb\" target=\"_parent\"><img src=\"https://colab.research.google.com/assets/colab-badge.svg\" alt=\"Open In Colab\"/></a>"
      ]
    },
    {
      "cell_type": "code",
      "execution_count": null,
      "metadata": {
        "colab": {
          "base_uri": "https://localhost:8080/"
        },
        "id": "cJaP_v1Y4E4_",
        "outputId": "6153fc50-196d-49d8-f6e1-aa792809182f"
      },
      "outputs": [
        {
          "output_type": "stream",
          "name": "stdout",
          "text": [
            "--2023-05-20 11:18:09--  https://www.dropbox.com/s/9vfy1vi6wsfkxyk/creditcard.csv.zip\n",
            "Resolving www.dropbox.com (www.dropbox.com)... 162.125.85.18, 2620:100:6035:18::a27d:5512\n",
            "Connecting to www.dropbox.com (www.dropbox.com)|162.125.85.18|:443... connected.\n",
            "HTTP request sent, awaiting response... 302 Found\n",
            "Location: /s/raw/9vfy1vi6wsfkxyk/creditcard.csv.zip [following]\n",
            "--2023-05-20 11:18:09--  https://www.dropbox.com/s/raw/9vfy1vi6wsfkxyk/creditcard.csv.zip\n",
            "Reusing existing connection to www.dropbox.com:443.\n",
            "HTTP request sent, awaiting response... 302 Found\n",
            "Location: https://uc38429389a6a5470bb7b29f9958.dl.dropboxusercontent.com/cd/0/inline/B8bvTD2FLxoEmBoz4cwB6tAiCBJGQa0CgNCi_VGZWxDi3XPW42c9j9lWAHIrSdYCxvjUul8zkDLKQW6RwbVaaaqgyHokT6u2PMj8jDSC7DB_mnot0Bq9Cw2gnDwRx-Od6bsG0ljbAKy69pNUfdbQD-dJkga0seKnioXN2uIP86_XKQ/file# [following]\n",
            "--2023-05-20 11:18:10--  https://uc38429389a6a5470bb7b29f9958.dl.dropboxusercontent.com/cd/0/inline/B8bvTD2FLxoEmBoz4cwB6tAiCBJGQa0CgNCi_VGZWxDi3XPW42c9j9lWAHIrSdYCxvjUul8zkDLKQW6RwbVaaaqgyHokT6u2PMj8jDSC7DB_mnot0Bq9Cw2gnDwRx-Od6bsG0ljbAKy69pNUfdbQD-dJkga0seKnioXN2uIP86_XKQ/file\n",
            "Resolving uc38429389a6a5470bb7b29f9958.dl.dropboxusercontent.com (uc38429389a6a5470bb7b29f9958.dl.dropboxusercontent.com)... 162.125.80.15, 2620:100:6035:15::a27d:550f\n",
            "Connecting to uc38429389a6a5470bb7b29f9958.dl.dropboxusercontent.com (uc38429389a6a5470bb7b29f9958.dl.dropboxusercontent.com)|162.125.80.15|:443... connected.\n",
            "HTTP request sent, awaiting response... 302 Found\n",
            "Location: /cd/0/inline2/B8YYmlvTWMOQkWE9eCSs-0FJXpSh3DjtAQCb0nSKFrOaOqOYONNi_jAe-1luadzUT3lKssruUJ6NP_SHIif1PIlCOGg3cMLSscMa0e51kC1tWInSbj0a0O404FJ5b43m_wkDcFw_E8xpz8Kn5IJJ3pgWdKOPDovyEgxT3dMLz9NMoH81ZmOp_J3laZt_An_xRgDsUy5fC3_OqHvQecotSp4AfURBCK3MkcHK2uzc1_xaAHaghwap3knSwhCpm5a3VvfwZPucZuX4cGsEin3cWeLKtuwVmYan5V9r2I6kZLIhOwLCP3eplors04z4CNqc8j14p3Qzq-UMCYa9qGQncWIJPzkucxDsIsjmuISBfQxrZhXgzrLWc9rDzBMgvHsPSJ-49YQhN9yV1lOzkBzP68lz7lb9e7yBeWvydPvBqamq1Q/file [following]\n",
            "--2023-05-20 11:18:11--  https://uc38429389a6a5470bb7b29f9958.dl.dropboxusercontent.com/cd/0/inline2/B8YYmlvTWMOQkWE9eCSs-0FJXpSh3DjtAQCb0nSKFrOaOqOYONNi_jAe-1luadzUT3lKssruUJ6NP_SHIif1PIlCOGg3cMLSscMa0e51kC1tWInSbj0a0O404FJ5b43m_wkDcFw_E8xpz8Kn5IJJ3pgWdKOPDovyEgxT3dMLz9NMoH81ZmOp_J3laZt_An_xRgDsUy5fC3_OqHvQecotSp4AfURBCK3MkcHK2uzc1_xaAHaghwap3knSwhCpm5a3VvfwZPucZuX4cGsEin3cWeLKtuwVmYan5V9r2I6kZLIhOwLCP3eplors04z4CNqc8j14p3Qzq-UMCYa9qGQncWIJPzkucxDsIsjmuISBfQxrZhXgzrLWc9rDzBMgvHsPSJ-49YQhN9yV1lOzkBzP68lz7lb9e7yBeWvydPvBqamq1Q/file\n",
            "Reusing existing connection to uc38429389a6a5470bb7b29f9958.dl.dropboxusercontent.com:443.\n",
            "HTTP request sent, awaiting response... 200 OK\n",
            "Length: 69155672 (66M) [application/zip]\n",
            "Saving to: ‘creditcard.csv.zip’\n",
            "\n",
            "creditcard.csv.zip  100%[===================>]  65.95M  24.8MB/s    in 2.7s    \n",
            "\n",
            "2023-05-20 11:18:14 (24.8 MB/s) - ‘creditcard.csv.zip’ saved [69155672/69155672]\n",
            "\n"
          ]
        }
      ],
      "source": [
        "!wget https://www.dropbox.com/s/9vfy1vi6wsfkxyk/creditcard.csv.zip"
      ]
    },
    {
      "cell_type": "code",
      "source": [
        "!unzip creditcard.csv.zip"
      ],
      "metadata": {
        "colab": {
          "base_uri": "https://localhost:8080/"
        },
        "id": "Z00b5cFs4aSu",
        "outputId": "a8ae0526-093b-4e05-91f2-3fbb84bcbfa1"
      },
      "execution_count": null,
      "outputs": [
        {
          "output_type": "stream",
          "name": "stdout",
          "text": [
            "Archive:  creditcard.csv.zip\n",
            "  inflating: creditcard.csv          \n"
          ]
        }
      ]
    },
    {
      "cell_type": "code",
      "source": [
        "import csv \n",
        "import numpy as np"
      ],
      "metadata": {
        "id": "MW1KAE8y4lfq"
      },
      "execution_count": null,
      "outputs": []
    },
    {
      "cell_type": "code",
      "source": [
        "df = 'creditcard.csv'\n",
        "\n",
        "features = []\n",
        "targets = []\n",
        "\n",
        "with open(df) as f:\n",
        "  for i,line in enumerate(f):\n",
        "    if i == 0:\n",
        "      print(\"HEADER:\" , line.strip())\n",
        "      continue  #Skip header\n",
        "    fields = line.strip().split(',')\n",
        "    features.append([float (v.replace('\"',\"\")) for v in fields[:-1]])\n",
        "    targets.append([int(fields[-1].replace('\"',\"\"))])\n",
        "    if i ==1:\n",
        "      print(\"EXAMPLR FEATURES:\",features[-1])\n",
        "\n",
        "featur = np.array(features,dtype='float32')\n",
        "target = np.array(targets, dtype='uint8')\n",
        "\n",
        "print('featur.shape:', featur.shape)\n",
        "print('target.shape:', target.shape)\n"
      ],
      "metadata": {
        "colab": {
          "base_uri": "https://localhost:8080/"
        },
        "id": "CdRqnAkw4oxe",
        "outputId": "c5341eda-cd6a-4abf-9b45-64fcec3664a7"
      },
      "execution_count": null,
      "outputs": [
        {
          "output_type": "stream",
          "name": "stdout",
          "text": [
            "HEADER: \"Time\",\"V1\",\"V2\",\"V3\",\"V4\",\"V5\",\"V6\",\"V7\",\"V8\",\"V9\",\"V10\",\"V11\",\"V12\",\"V13\",\"V14\",\"V15\",\"V16\",\"V17\",\"V18\",\"V19\",\"V20\",\"V21\",\"V22\",\"V23\",\"V24\",\"V25\",\"V26\",\"V27\",\"V28\",\"Amount\",\"Class\"\n",
            "EXAMPLR FEATURES: [0.0, -1.3598071336738, -0.0727811733098497, 2.53634673796914, 1.37815522427443, -0.338320769942518, 0.462387777762292, 0.239598554061257, 0.0986979012610507, 0.363786969611213, 0.0907941719789316, -0.551599533260813, -0.617800855762348, -0.991389847235408, -0.311169353699879, 1.46817697209427, -0.470400525259478, 0.207971241929242, 0.0257905801985591, 0.403992960255733, 0.251412098239705, -0.018306777944153, 0.277837575558899, -0.110473910188767, 0.0669280749146731, 0.128539358273528, -0.189114843888824, 0.133558376740387, -0.0210530534538215, 149.62]\n",
            "featur.shape: (284807, 30)\n",
            "target.shape: (284807, 1)\n"
          ]
        }
      ]
    },
    {
      "cell_type": "code",
      "source": [
        "num_val_samples = int(len(featur)* 0.2)\n",
        "train_featur = featur[:-num_val_samples]\n",
        "train_target = target[:-num_val_samples]\n",
        "val_featur = featur[-num_val_samples:]\n",
        "val_target = target[-num_val_samples:]\n",
        "\n",
        "print('Number of training samples:' ,len(train_featur))\n",
        "print('Number of training samples:', len(val_target))"
      ],
      "metadata": {
        "colab": {
          "base_uri": "https://localhost:8080/"
        },
        "id": "hGnFZCN_7TaT",
        "outputId": "afd2a16d-1474-4744-d7c3-281644b840ab"
      },
      "execution_count": null,
      "outputs": [
        {
          "output_type": "stream",
          "name": "stdout",
          "text": [
            "Number of training samples: 227846\n",
            "Number of training samples: 56961\n"
          ]
        }
      ]
    },
    {
      "cell_type": "code",
      "source": [
        "counts = np.bincount(train_target[:,0])\n",
        "print(\n",
        "    \"Number of position sample in training data : {} ({:.2f}%of total1)\".format(\n",
        "        counts[1],100 *float(counts[1]) / len(train_target)\n",
        "    )\n",
        ")\n",
        "weight_for_0 = 1.0/counts[0]\n",
        "weight_for_1 = 1.0/counts[1]"
      ],
      "metadata": {
        "colab": {
          "base_uri": "https://localhost:8080/"
        },
        "id": "rLV7rMxo8uuS",
        "outputId": "a5099b3c-7eef-44fe-dacd-a7ccb7d97831"
      },
      "execution_count": null,
      "outputs": [
        {
          "output_type": "stream",
          "name": "stdout",
          "text": [
            "Number of position sample in training data : 417 (0.18%of total1)\n"
          ]
        }
      ]
    },
    {
      "cell_type": "code",
      "source": [
        "print(weight_for_0)\n",
        "print(weight_for_1)"
      ],
      "metadata": {
        "colab": {
          "base_uri": "https://localhost:8080/"
        },
        "id": "6t2gxltd9s6R",
        "outputId": "8303d9cb-7f83-4c4e-cfa5-56ac58ce04c7"
      },
      "execution_count": null,
      "outputs": [
        {
          "output_type": "stream",
          "name": "stdout",
          "text": [
            "4.396976638863118e-06\n",
            "0.002398081534772182\n"
          ]
        }
      ]
    },
    {
      "cell_type": "code",
      "source": [
        "mean = np.mean(train_featur,axis=0)\n",
        "train_featur -= mean\n",
        "val_featur -=mean\n",
        "\n",
        "std = np.std(train_featur,axis=0)\n",
        "train_featur /=std\n",
        "val_featur /=std\n"
      ],
      "metadata": {
        "id": "FPpg-e_Q97ZM"
      },
      "execution_count": null,
      "outputs": []
    },
    {
      "cell_type": "code",
      "source": [
        "from tensorflow import keras "
      ],
      "metadata": {
        "id": "VqskxwLe-gO0"
      },
      "execution_count": null,
      "outputs": []
    },
    {
      "cell_type": "markdown",
      "source": [
        "\n"
      ],
      "metadata": {
        "id": "DEIXvjbo-pPw"
      }
    },
    {
      "cell_type": "code",
      "source": [
        "\n",
        "hid_size = 256\n",
        "model = keras.Sequential(\n",
        "    [\n",
        "        keras.layers.Dense(\n",
        "            hid_size, activation=\"relu\", input_shape=(train_featur.shape[-1],)\n",
        "        ), # fully-connected y^1\n",
        "        keras.layers.Dense(hid_size, activation=\"relu\"), # y^2\n",
        "        keras.layers.Dropout(0.3),\n",
        "        keras.layers.Dense(hid_size, activation=\"relu\"), # y^3\n",
        "        keras.layers.Dropout(0.3),\n",
        "        keras.layers.Dense(1, activation=\"sigmoid\"), # y^4\n",
        "    ]\n",
        ")\n",
        "model.summary()"
      ],
      "metadata": {
        "colab": {
          "base_uri": "https://localhost:8080/"
        },
        "id": "dOO7c6D_AY9-",
        "outputId": "9df55ccb-b40c-4664-8078-792b89938af1"
      },
      "execution_count": null,
      "outputs": [
        {
          "output_type": "stream",
          "name": "stdout",
          "text": [
            "Model: \"sequential_2\"\n",
            "_________________________________________________________________\n",
            " Layer (type)                Output Shape              Param #   \n",
            "=================================================================\n",
            " dense_8 (Dense)             (None, 256)               7936      \n",
            "                                                                 \n",
            " dense_9 (Dense)             (None, 256)               65792     \n",
            "                                                                 \n",
            " dropout_4 (Dropout)         (None, 256)               0         \n",
            "                                                                 \n",
            " dense_10 (Dense)            (None, 256)               65792     \n",
            "                                                                 \n",
            " dropout_5 (Dropout)         (None, 256)               0         \n",
            "                                                                 \n",
            " dense_11 (Dense)            (None, 1)                 257       \n",
            "                                                                 \n",
            "=================================================================\n",
            "Total params: 139,777\n",
            "Trainable params: 139,777\n",
            "Non-trainable params: 0\n",
            "_________________________________________________________________\n"
          ]
        }
      ]
    },
    {
      "cell_type": "code",
      "source": [
        "metrics = [\n",
        "    keras.metrics.FalseNegatives(name=\"fn\"),\n",
        "    keras.metrics.FalsePositives(name=\"fp\"),\n",
        "    keras.metrics.TrueNegatives(name=\"tn\"),\n",
        "    keras.metrics.TruePositives(name=\"tp\"),\n",
        "    keras.metrics.Precision(name=\"precision\"),\n",
        "    keras.metrics.Recall(name=\"recall\"),\n",
        "]\n",
        "\n",
        "model.compile(\n",
        "    optimizer=keras.optimizers.Adam(1e-2), loss=\"binary_crossentropy\", metrics=metrics\n",
        ")\n",
        "\n",
        "callbacks = [keras.callbacks.ModelCheckpoint(\"fraud_model_at_epoch_{epoch}.h5\")]\n",
        "class_weight = {0: weight_for_0, 1: weight_for_1}\n",
        "\n",
        "model.fit(\n",
        "    train_featur,\n",
        "    train_target,\n",
        "    batch_size=2048,\n",
        "    epochs=30,\n",
        "    verbose=2,\n",
        "    callbacks=callbacks,\n",
        "    validation_data=(val_featur, val_target),\n",
        "    class_weight=class_weight,\n",
        ")\n"
      ],
      "metadata": {
        "colab": {
          "base_uri": "https://localhost:8080/"
        },
        "id": "_oIji7m_AaJI",
        "outputId": "b3520e46-5b82-4648-a532-482e34d6afee"
      },
      "execution_count": null,
      "outputs": [
        {
          "output_type": "stream",
          "name": "stdout",
          "text": [
            "Epoch 1/30\n",
            "112/112 - 9s - loss: 2.1736e-06 - fn: 47.0000 - fp: 16728.0000 - tn: 210701.0000 - tp: 370.0000 - precision: 0.0216 - recall: 0.8873 - val_loss: 0.1093 - val_fn: 6.0000 - val_fp: 1551.0000 - val_tn: 55335.0000 - val_tp: 69.0000 - val_precision: 0.0426 - val_recall: 0.9200 - 9s/epoch - 76ms/step\n",
            "Epoch 2/30\n",
            "112/112 - 6s - loss: 1.7428e-06 - fn: 36.0000 - fp: 9213.0000 - tn: 218216.0000 - tp: 381.0000 - precision: 0.0397 - recall: 0.9137 - val_loss: 0.0852 - val_fn: 7.0000 - val_fp: 1379.0000 - val_tn: 55507.0000 - val_tp: 68.0000 - val_precision: 0.0470 - val_recall: 0.9067 - 6s/epoch - 58ms/step\n",
            "Epoch 3/30\n",
            "112/112 - 7s - loss: 1.1010e-06 - fn: 29.0000 - fp: 6216.0000 - tn: 221213.0000 - tp: 388.0000 - precision: 0.0588 - recall: 0.9305 - val_loss: 0.0932 - val_fn: 6.0000 - val_fp: 2022.0000 - val_tn: 54864.0000 - val_tp: 69.0000 - val_precision: 0.0330 - val_recall: 0.9200 - 7s/epoch - 59ms/step\n",
            "Epoch 4/30\n",
            "112/112 - 6s - loss: 9.3034e-07 - fn: 19.0000 - fp: 6783.0000 - tn: 220646.0000 - tp: 398.0000 - precision: 0.0554 - recall: 0.9544 - val_loss: 0.0635 - val_fn: 9.0000 - val_fp: 602.0000 - val_tn: 56284.0000 - val_tp: 66.0000 - val_precision: 0.0988 - val_recall: 0.8800 - 6s/epoch - 57ms/step\n",
            "Epoch 5/30\n",
            "112/112 - 7s - loss: 1.1783e-06 - fn: 25.0000 - fp: 8481.0000 - tn: 218948.0000 - tp: 392.0000 - precision: 0.0442 - recall: 0.9400 - val_loss: 0.1196 - val_fn: 9.0000 - val_fp: 1007.0000 - val_tn: 55879.0000 - val_tp: 66.0000 - val_precision: 0.0615 - val_recall: 0.8800 - 7s/epoch - 60ms/step\n",
            "Epoch 6/30\n",
            "112/112 - 7s - loss: 1.0582e-06 - fn: 23.0000 - fp: 6831.0000 - tn: 220598.0000 - tp: 394.0000 - precision: 0.0545 - recall: 0.9448 - val_loss: 0.0906 - val_fn: 7.0000 - val_fp: 1644.0000 - val_tn: 55242.0000 - val_tp: 68.0000 - val_precision: 0.0397 - val_recall: 0.9067 - 7s/epoch - 58ms/step\n",
            "Epoch 7/30\n",
            "112/112 - 7s - loss: 7.3423e-07 - fn: 17.0000 - fp: 6692.0000 - tn: 220737.0000 - tp: 400.0000 - precision: 0.0564 - recall: 0.9592 - val_loss: 0.0394 - val_fn: 8.0000 - val_fp: 548.0000 - val_tn: 56338.0000 - val_tp: 67.0000 - val_precision: 0.1089 - val_recall: 0.8933 - 7s/epoch - 63ms/step\n",
            "Epoch 8/30\n",
            "112/112 - 6s - loss: 8.1530e-07 - fn: 15.0000 - fp: 8202.0000 - tn: 219227.0000 - tp: 402.0000 - precision: 0.0467 - recall: 0.9640 - val_loss: 0.1191 - val_fn: 6.0000 - val_fp: 3199.0000 - val_tn: 53687.0000 - val_tp: 69.0000 - val_precision: 0.0211 - val_recall: 0.9200 - 6s/epoch - 57ms/step\n",
            "Epoch 9/30\n",
            "112/112 - 7s - loss: 8.5181e-07 - fn: 14.0000 - fp: 8298.0000 - tn: 219131.0000 - tp: 403.0000 - precision: 0.0463 - recall: 0.9664 - val_loss: 0.0935 - val_fn: 7.0000 - val_fp: 2454.0000 - val_tn: 54432.0000 - val_tp: 68.0000 - val_precision: 0.0270 - val_recall: 0.9067 - 7s/epoch - 64ms/step\n",
            "Epoch 10/30\n",
            "112/112 - 6s - loss: 1.9390e-06 - fn: 29.0000 - fp: 13242.0000 - tn: 214187.0000 - tp: 388.0000 - precision: 0.0285 - recall: 0.9305 - val_loss: 0.1241 - val_fn: 6.0000 - val_fp: 2494.0000 - val_tn: 54392.0000 - val_tp: 69.0000 - val_precision: 0.0269 - val_recall: 0.9200 - 6s/epoch - 53ms/step\n",
            "Epoch 11/30\n",
            "112/112 - 7s - loss: 1.0485e-06 - fn: 19.0000 - fp: 6451.0000 - tn: 220978.0000 - tp: 398.0000 - precision: 0.0581 - recall: 0.9544 - val_loss: 0.1808 - val_fn: 5.0000 - val_fp: 2291.0000 - val_tn: 54595.0000 - val_tp: 70.0000 - val_precision: 0.0296 - val_recall: 0.9333 - 7s/epoch - 65ms/step\n",
            "Epoch 12/30\n",
            "112/112 - 6s - loss: 5.7127e-06 - fn: 26.0000 - fp: 10341.0000 - tn: 217088.0000 - tp: 391.0000 - precision: 0.0364 - recall: 0.9376 - val_loss: 0.0856 - val_fn: 12.0000 - val_fp: 294.0000 - val_tn: 56592.0000 - val_tp: 63.0000 - val_precision: 0.1765 - val_recall: 0.8400 - 6s/epoch - 53ms/step\n",
            "Epoch 13/30\n",
            "112/112 - 7s - loss: 1.6400e-05 - fn: 27.0000 - fp: 12656.0000 - tn: 214773.0000 - tp: 390.0000 - precision: 0.0299 - recall: 0.9353 - val_loss: 0.3380 - val_fn: 10.0000 - val_fp: 773.0000 - val_tn: 56113.0000 - val_tp: 65.0000 - val_precision: 0.0776 - val_recall: 0.8667 - 7s/epoch - 64ms/step\n",
            "Epoch 14/30\n",
            "112/112 - 6s - loss: 4.2155e-06 - fn: 21.0000 - fp: 8744.0000 - tn: 218685.0000 - tp: 396.0000 - precision: 0.0433 - recall: 0.9496 - val_loss: 0.0793 - val_fn: 7.0000 - val_fp: 1112.0000 - val_tn: 55774.0000 - val_tp: 68.0000 - val_precision: 0.0576 - val_recall: 0.9067 - 6s/epoch - 55ms/step\n",
            "Epoch 15/30\n",
            "112/112 - 7s - loss: 2.6045e-06 - fn: 16.0000 - fp: 6807.0000 - tn: 220622.0000 - tp: 401.0000 - precision: 0.0556 - recall: 0.9616 - val_loss: 0.1041 - val_fn: 10.0000 - val_fp: 1048.0000 - val_tn: 55838.0000 - val_tp: 65.0000 - val_precision: 0.0584 - val_recall: 0.8667 - 7s/epoch - 67ms/step\n",
            "Epoch 16/30\n",
            "112/112 - 6s - loss: 1.4595e-06 - fn: 13.0000 - fp: 6164.0000 - tn: 221265.0000 - tp: 404.0000 - precision: 0.0615 - recall: 0.9688 - val_loss: 0.0321 - val_fn: 11.0000 - val_fp: 286.0000 - val_tn: 56600.0000 - val_tp: 64.0000 - val_precision: 0.1829 - val_recall: 0.8533 - 6s/epoch - 55ms/step\n",
            "Epoch 17/30\n",
            "112/112 - 7s - loss: 6.6167e-07 - fn: 10.0000 - fp: 5596.0000 - tn: 221833.0000 - tp: 407.0000 - precision: 0.0678 - recall: 0.9760 - val_loss: 0.0346 - val_fn: 8.0000 - val_fp: 671.0000 - val_tn: 56215.0000 - val_tp: 67.0000 - val_precision: 0.0908 - val_recall: 0.8933 - 7s/epoch - 64ms/step\n",
            "Epoch 18/30\n",
            "112/112 - 6s - loss: 7.2854e-07 - fn: 12.0000 - fp: 6268.0000 - tn: 221161.0000 - tp: 405.0000 - precision: 0.0607 - recall: 0.9712 - val_loss: 0.0331 - val_fn: 11.0000 - val_fp: 558.0000 - val_tn: 56328.0000 - val_tp: 64.0000 - val_precision: 0.1029 - val_recall: 0.8533 - 6s/epoch - 55ms/step\n",
            "Epoch 19/30\n",
            "112/112 - 7s - loss: 5.1556e-07 - fn: 9.0000 - fp: 4891.0000 - tn: 222538.0000 - tp: 408.0000 - precision: 0.0770 - recall: 0.9784 - val_loss: 0.0470 - val_fn: 8.0000 - val_fp: 1014.0000 - val_tn: 55872.0000 - val_tp: 67.0000 - val_precision: 0.0620 - val_recall: 0.8933 - 7s/epoch - 64ms/step\n",
            "Epoch 20/30\n",
            "112/112 - 6s - loss: 3.6690e-07 - fn: 4.0000 - fp: 3979.0000 - tn: 223450.0000 - tp: 413.0000 - precision: 0.0940 - recall: 0.9904 - val_loss: 0.0288 - val_fn: 8.0000 - val_fp: 591.0000 - val_tn: 56295.0000 - val_tp: 67.0000 - val_precision: 0.1018 - val_recall: 0.8933 - 6s/epoch - 55ms/step\n",
            "Epoch 21/30\n",
            "112/112 - 7s - loss: 3.3647e-07 - fn: 4.0000 - fp: 3562.0000 - tn: 223867.0000 - tp: 413.0000 - precision: 0.1039 - recall: 0.9904 - val_loss: 0.0181 - val_fn: 10.0000 - val_fp: 393.0000 - val_tn: 56493.0000 - val_tp: 65.0000 - val_precision: 0.1419 - val_recall: 0.8667 - 7s/epoch - 67ms/step\n",
            "Epoch 22/30\n",
            "112/112 - 6s - loss: 3.5406e-07 - fn: 5.0000 - fp: 3882.0000 - tn: 223547.0000 - tp: 412.0000 - precision: 0.0959 - recall: 0.9880 - val_loss: 0.0320 - val_fn: 8.0000 - val_fp: 735.0000 - val_tn: 56151.0000 - val_tp: 67.0000 - val_precision: 0.0835 - val_recall: 0.8933 - 6s/epoch - 53ms/step\n",
            "Epoch 23/30\n",
            "112/112 - 7s - loss: 6.1182e-07 - fn: 6.0000 - fp: 5567.0000 - tn: 221862.0000 - tp: 411.0000 - precision: 0.0688 - recall: 0.9856 - val_loss: 0.0167 - val_fn: 12.0000 - val_fp: 192.0000 - val_tn: 56694.0000 - val_tp: 63.0000 - val_precision: 0.2471 - val_recall: 0.8400 - 7s/epoch - 67ms/step\n",
            "Epoch 24/30\n",
            "112/112 - 6s - loss: 3.9505e-07 - fn: 6.0000 - fp: 3651.0000 - tn: 223778.0000 - tp: 411.0000 - precision: 0.1012 - recall: 0.9856 - val_loss: 0.1571 - val_fn: 5.0000 - val_fp: 3682.0000 - val_tn: 53204.0000 - val_tp: 70.0000 - val_precision: 0.0187 - val_recall: 0.9333 - 6s/epoch - 55ms/step\n",
            "Epoch 25/30\n",
            "112/112 - 7s - loss: 3.2761e-07 - fn: 2.0000 - fp: 4461.0000 - tn: 222968.0000 - tp: 415.0000 - precision: 0.0851 - recall: 0.9952 - val_loss: 0.0178 - val_fn: 11.0000 - val_fp: 400.0000 - val_tn: 56486.0000 - val_tp: 64.0000 - val_precision: 0.1379 - val_recall: 0.8533 - 7s/epoch - 66ms/step\n",
            "Epoch 26/30\n",
            "112/112 - 6s - loss: 2.9955e-07 - fn: 4.0000 - fp: 3453.0000 - tn: 223976.0000 - tp: 413.0000 - precision: 0.1068 - recall: 0.9904 - val_loss: 0.0430 - val_fn: 10.0000 - val_fp: 778.0000 - val_tn: 56108.0000 - val_tp: 65.0000 - val_precision: 0.0771 - val_recall: 0.8667 - 6s/epoch - 55ms/step\n",
            "Epoch 27/30\n",
            "112/112 - 7s - loss: 2.5682e-07 - fn: 1.0000 - fp: 3012.0000 - tn: 224417.0000 - tp: 416.0000 - precision: 0.1214 - recall: 0.9976 - val_loss: 0.0206 - val_fn: 11.0000 - val_fp: 389.0000 - val_tn: 56497.0000 - val_tp: 64.0000 - val_precision: 0.1413 - val_recall: 0.8533 - 7s/epoch - 62ms/step\n",
            "Epoch 28/30\n",
            "112/112 - 6s - loss: 2.8468e-07 - fn: 4.0000 - fp: 2558.0000 - tn: 224871.0000 - tp: 413.0000 - precision: 0.1390 - recall: 0.9904 - val_loss: 0.0441 - val_fn: 10.0000 - val_fp: 951.0000 - val_tn: 55935.0000 - val_tp: 65.0000 - val_precision: 0.0640 - val_recall: 0.8667 - 6s/epoch - 56ms/step\n",
            "Epoch 29/30\n",
            "112/112 - 7s - loss: 2.4525e-07 - fn: 2.0000 - fp: 3227.0000 - tn: 224202.0000 - tp: 415.0000 - precision: 0.1139 - recall: 0.9952 - val_loss: 0.0100 - val_fn: 11.0000 - val_fp: 167.0000 - val_tn: 56719.0000 - val_tp: 64.0000 - val_precision: 0.2771 - val_recall: 0.8533 - 7s/epoch - 63ms/step\n",
            "Epoch 30/30\n",
            "112/112 - 7s - loss: 1.7210e-07 - fn: 1.0000 - fp: 1703.0000 - tn: 225726.0000 - tp: 416.0000 - precision: 0.1963 - recall: 0.9976 - val_loss: 0.0235 - val_fn: 11.0000 - val_fp: 321.0000 - val_tn: 56565.0000 - val_tp: 64.0000 - val_precision: 0.1662 - val_recall: 0.8533 - 7s/epoch - 59ms/step\n"
          ]
        },
        {
          "output_type": "execute_result",
          "data": {
            "text/plain": [
              "<keras.callbacks.History at 0x7f2802354c10>"
            ]
          },
          "metadata": {},
          "execution_count": 26
        }
      ]
    },
    {
      "cell_type": "code",
      "source": [],
      "metadata": {
        "id": "u-L-ZlRyG9Sd"
      },
      "execution_count": null,
      "outputs": []
    }
  ]
}